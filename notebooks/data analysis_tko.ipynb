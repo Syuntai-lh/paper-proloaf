{
 "cells": [
  {
   "cell_type": "code",
   "execution_count": 1,
   "metadata": {},
   "outputs": [
    {
     "name": "stdout",
     "output_type": "stream",
     "text": [
      "/home/jupyter/profiles/tko/bachelor thesis/proloaf/data\n",
      "drwxr-xr-x 4 jupyter        7 Jul  8 15:59 \u001b[0m\u001b[01;34mplf-data\u001b[0m/\r\n"
     ]
    },
    {
     "data": {
      "text/html": [
       "<div>\n",
       "<style scoped>\n",
       "    .dataframe tbody tr th:only-of-type {\n",
       "        vertical-align: middle;\n",
       "    }\n",
       "\n",
       "    .dataframe tbody tr th {\n",
       "        vertical-align: top;\n",
       "    }\n",
       "\n",
       "    .dataframe thead th {\n",
       "        text-align: right;\n",
       "    }\n",
       "</style>\n",
       "<table border=\"1\" class=\"dataframe\">\n",
       "  <thead>\n",
       "    <tr style=\"text-align: right;\">\n",
       "      <th></th>\n",
       "      <th>Time</th>\n",
       "      <th>DE_load_actual_entsoe_transparency</th>\n",
       "      <th>DE_temperature</th>\n",
       "      <th>DE_radiation_direct_horizontal</th>\n",
       "      <th>DE_radiation_diffuse_horizontal</th>\n",
       "      <th>hour_sin</th>\n",
       "      <th>hour_cos</th>\n",
       "      <th>weekday_sin</th>\n",
       "      <th>weekday_cos</th>\n",
       "      <th>mnth_sin</th>\n",
       "      <th>...</th>\n",
       "      <th>month_10</th>\n",
       "      <th>month_11</th>\n",
       "      <th>month_12</th>\n",
       "      <th>weekday_0</th>\n",
       "      <th>weekday_1</th>\n",
       "      <th>weekday_2</th>\n",
       "      <th>weekday_3</th>\n",
       "      <th>weekday_4</th>\n",
       "      <th>weekday_5</th>\n",
       "      <th>weekday_6</th>\n",
       "    </tr>\n",
       "  </thead>\n",
       "  <tbody>\n",
       "    <tr>\n",
       "      <th>0</th>\n",
       "      <td>2015-01-01 00:00:00</td>\n",
       "      <td>41151.0</td>\n",
       "      <td>-0.981</td>\n",
       "      <td>0.0</td>\n",
       "      <td>0.0</td>\n",
       "      <td>0.000000</td>\n",
       "      <td>1.000000</td>\n",
       "      <td>0.433884</td>\n",
       "      <td>-0.900969</td>\n",
       "      <td>0.0</td>\n",
       "      <td>...</td>\n",
       "      <td>0</td>\n",
       "      <td>0</td>\n",
       "      <td>0</td>\n",
       "      <td>0</td>\n",
       "      <td>0</td>\n",
       "      <td>0</td>\n",
       "      <td>1</td>\n",
       "      <td>0</td>\n",
       "      <td>0</td>\n",
       "      <td>0</td>\n",
       "    </tr>\n",
       "    <tr>\n",
       "      <th>1</th>\n",
       "      <td>2015-01-01 01:00:00</td>\n",
       "      <td>40135.0</td>\n",
       "      <td>-1.035</td>\n",
       "      <td>0.0</td>\n",
       "      <td>0.0</td>\n",
       "      <td>0.258819</td>\n",
       "      <td>0.965926</td>\n",
       "      <td>0.433884</td>\n",
       "      <td>-0.900969</td>\n",
       "      <td>0.0</td>\n",
       "      <td>...</td>\n",
       "      <td>0</td>\n",
       "      <td>0</td>\n",
       "      <td>0</td>\n",
       "      <td>0</td>\n",
       "      <td>0</td>\n",
       "      <td>0</td>\n",
       "      <td>1</td>\n",
       "      <td>0</td>\n",
       "      <td>0</td>\n",
       "      <td>0</td>\n",
       "    </tr>\n",
       "    <tr>\n",
       "      <th>2</th>\n",
       "      <td>2015-01-01 02:00:00</td>\n",
       "      <td>39106.0</td>\n",
       "      <td>-1.109</td>\n",
       "      <td>0.0</td>\n",
       "      <td>0.0</td>\n",
       "      <td>0.500000</td>\n",
       "      <td>0.866025</td>\n",
       "      <td>0.433884</td>\n",
       "      <td>-0.900969</td>\n",
       "      <td>0.0</td>\n",
       "      <td>...</td>\n",
       "      <td>0</td>\n",
       "      <td>0</td>\n",
       "      <td>0</td>\n",
       "      <td>0</td>\n",
       "      <td>0</td>\n",
       "      <td>0</td>\n",
       "      <td>1</td>\n",
       "      <td>0</td>\n",
       "      <td>0</td>\n",
       "      <td>0</td>\n",
       "    </tr>\n",
       "    <tr>\n",
       "      <th>3</th>\n",
       "      <td>2015-01-01 03:00:00</td>\n",
       "      <td>38765.0</td>\n",
       "      <td>-1.166</td>\n",
       "      <td>0.0</td>\n",
       "      <td>0.0</td>\n",
       "      <td>0.707107</td>\n",
       "      <td>0.707107</td>\n",
       "      <td>0.433884</td>\n",
       "      <td>-0.900969</td>\n",
       "      <td>0.0</td>\n",
       "      <td>...</td>\n",
       "      <td>0</td>\n",
       "      <td>0</td>\n",
       "      <td>0</td>\n",
       "      <td>0</td>\n",
       "      <td>0</td>\n",
       "      <td>0</td>\n",
       "      <td>1</td>\n",
       "      <td>0</td>\n",
       "      <td>0</td>\n",
       "      <td>0</td>\n",
       "    </tr>\n",
       "    <tr>\n",
       "      <th>4</th>\n",
       "      <td>2015-01-01 04:00:00</td>\n",
       "      <td>38941.0</td>\n",
       "      <td>-1.226</td>\n",
       "      <td>0.0</td>\n",
       "      <td>0.0</td>\n",
       "      <td>0.866025</td>\n",
       "      <td>0.500000</td>\n",
       "      <td>0.433884</td>\n",
       "      <td>-0.900969</td>\n",
       "      <td>0.0</td>\n",
       "      <td>...</td>\n",
       "      <td>0</td>\n",
       "      <td>0</td>\n",
       "      <td>0</td>\n",
       "      <td>0</td>\n",
       "      <td>0</td>\n",
       "      <td>0</td>\n",
       "      <td>1</td>\n",
       "      <td>0</td>\n",
       "      <td>0</td>\n",
       "      <td>0</td>\n",
       "    </tr>\n",
       "  </tbody>\n",
       "</table>\n",
       "<p>5 rows × 54 columns</p>\n",
       "</div>"
      ],
      "text/plain": [
       "                  Time  DE_load_actual_entsoe_transparency  DE_temperature  \\\n",
       "0  2015-01-01 00:00:00                             41151.0          -0.981   \n",
       "1  2015-01-01 01:00:00                             40135.0          -1.035   \n",
       "2  2015-01-01 02:00:00                             39106.0          -1.109   \n",
       "3  2015-01-01 03:00:00                             38765.0          -1.166   \n",
       "4  2015-01-01 04:00:00                             38941.0          -1.226   \n",
       "\n",
       "   DE_radiation_direct_horizontal  DE_radiation_diffuse_horizontal  hour_sin  \\\n",
       "0                             0.0                              0.0  0.000000   \n",
       "1                             0.0                              0.0  0.258819   \n",
       "2                             0.0                              0.0  0.500000   \n",
       "3                             0.0                              0.0  0.707107   \n",
       "4                             0.0                              0.0  0.866025   \n",
       "\n",
       "   hour_cos  weekday_sin  weekday_cos  mnth_sin  ...  month_10  month_11  \\\n",
       "0  1.000000     0.433884    -0.900969       0.0  ...         0         0   \n",
       "1  0.965926     0.433884    -0.900969       0.0  ...         0         0   \n",
       "2  0.866025     0.433884    -0.900969       0.0  ...         0         0   \n",
       "3  0.707107     0.433884    -0.900969       0.0  ...         0         0   \n",
       "4  0.500000     0.433884    -0.900969       0.0  ...         0         0   \n",
       "\n",
       "   month_12  weekday_0  weekday_1  weekday_2  weekday_3  weekday_4  weekday_5  \\\n",
       "0         0          0          0          0          1          0          0   \n",
       "1         0          0          0          0          1          0          0   \n",
       "2         0          0          0          0          1          0          0   \n",
       "3         0          0          0          0          1          0          0   \n",
       "4         0          0          0          0          1          0          0   \n",
       "\n",
       "   weekday_6  \n",
       "0          0  \n",
       "1          0  \n",
       "2          0  \n",
       "3          0  \n",
       "4          0  \n",
       "\n",
       "[5 rows x 54 columns]"
      ]
     },
     "execution_count": 1,
     "metadata": {},
     "output_type": "execute_result"
    }
   ],
   "source": [
    "import matplotlib.pyplot as plt\n",
    "import pandas as pd\n",
    "import numpy as np\n",
    "\n",
    "%cd ./data/\n",
    "%ldir\n",
    "df = pd.read_csv('opsd.csv',sep=';') #raw dataset\n",
    "df.head()"
   ]
  },
  {
   "cell_type": "code",
   "execution_count": 2,
   "metadata": {},
   "outputs": [
    {
     "data": {
      "text/plain": [
       "<AxesSubplot:ylabel='Density'>"
      ]
     },
     "execution_count": 2,
     "metadata": {},
     "output_type": "execute_result"
    },
    {
     "data": {
      "image/png": "[encoded data removed]",
      "text/plain": [
       "<Figure size 432x288 with 1 Axes>"
      ]
     },
     "metadata": {
      "needs_background": "light"
     },
     "output_type": "display_data"
    }
   ],
   "source": [
    "load = df.iloc[:,[0,1]]\n",
    "temp = df.iloc[:,[0,2]]\n",
    "load.plot(x='Time', y='DE_load_actual_entsoe_transparency', kind='kde')\n"
   ]
  },
  {
   "cell_type": "code",
   "execution_count": 3,
   "metadata": {},
   "outputs": [
    {
     "name": "stdout",
     "output_type": "stream",
     "text": [
      "DE_load_actual_entsoe_transparency    55859.295044\n",
      "dtype: float64\n",
      "DE_temperature    9.850719\n",
      "dtype: float64\n"
     ]
    }
   ],
   "source": [
    "load_avg = load.mean()\n",
    "print(load_avg)\n",
    "temp_avg = temp.mean()\n",
    "print(temp_avg)"
   ]
  },
  {
   "cell_type": "code",
   "execution_count": 4,
   "metadata": {},
   "outputs": [
    {
     "data": {
      "text/plain": [
       "<AxesSubplot:ylabel='Density'>"
      ]
     },
     "execution_count": 4,
     "metadata": {},
     "output_type": "execute_result"
    },
    {
     "data": {
      "image/png": "[encoded data removed]",
      "text/plain": [
       "<Figure size 432x288 with 1 Axes>"
      ]
     },
     "metadata": {
      "needs_background": "light"
     },
     "output_type": "display_data"
    }
   ],
   "source": [
    "temp.plot(x='Time', y='DE_temperature', kind='kde')"
   ]
  },
  {
   "cell_type": "markdown",
   "metadata": {},
   "source": [
    "## find special days"
   ]
  },
  {
   "cell_type": "markdown",
   "metadata": {},
   "source": [
    "days with highest load: \n",
    "- 13.12.2017 -> timestep 25848 - history horizon\n",
    "- 28.11.2018 -> timestep = 34248 - history horizon\n",
    "- 14.12.2017 -> 25872 - hh\n",
    "- 07.12.2017 -> 25704 - hh\n",
    "\n",
    "days with lowest load:\n",
    "- 18.09.2016 -> 15024 -hh\n",
    "- 25.05.2015 -> 3456 - hh\n",
    "- 17.09.2016\n",
    "- 24.05.2015\n",
    "\n",
    "\n",
    "days with highest temperature:\n",
    "- 25.07.2019 -> 39984 - hh\n",
    "- 24.07.2019 -> 39960 - hh\n",
    "- 04.07.2015 -> 4416 - hh\n",
    "- 26.07.2019 -> 40008 - hh\n",
    "\n",
    "days with lowest temperature:\n",
    "- 28.02.2018 -> 27696 - hh \n",
    "- 01.03.2018 -> 27720 - hh\n",
    "- 27.02.2018\n",
    "- 02.03.2018\n",
    "\n",
    "days with highest radiation (direct horizontal):\n",
    "- 02.07.2018 11:00 -> 30672 - hh\n",
    "- 29.06.2019 11:00 -> 39360 - hh\n",
    "- 01.07.2018 11:00 -> 30648 - hh\n",
    "- 02.07.2018 10:00 -> 30672 - hh\n",
    "\n",
    "days with highest radiation (diffuse horizontal):\n",
    "- 23.05.2016 11:00 -> 12192 - hh\n",
    "- 13.06.2016 11:00 -> 12696 - hh\n",
    "- 10.06.2019 11:00 -> 38904 - hh\n",
    "- 29.05.2016 11:00 -> 12336 - hh"
   ]
  },
  {
   "cell_type": "markdown",
   "metadata": {},
   "source": [
    "# find similar days"
   ]
  },
  {
   "cell_type": "markdown",
   "metadata": {},
   "source": [
    "# mondays\n",
    "\n",
    "- 02.02.2015\n",
    "- 09.02.2015\n",
    "- 16.02.2015\n",
    "- 23.02.2015\n",
    "\n"
   ]
  },
  {
   "cell_type": "code",
   "execution_count": 5,
   "metadata": {},
   "outputs": [
    {
     "data": {
      "text/html": [
       "<div>\n",
       "<style scoped>\n",
       "    .dataframe tbody tr th:only-of-type {\n",
       "        vertical-align: middle;\n",
       "    }\n",
       "\n",
       "    .dataframe tbody tr th {\n",
       "        vertical-align: top;\n",
       "    }\n",
       "\n",
       "    .dataframe thead th {\n",
       "        text-align: right;\n",
       "    }\n",
       "</style>\n",
       "<table border=\"1\" class=\"dataframe\">\n",
       "  <thead>\n",
       "    <tr style=\"text-align: right;\">\n",
       "      <th></th>\n",
       "      <th>Time</th>\n",
       "      <th>DE_load_actual_entsoe_transparency</th>\n",
       "      <th>DE_temperature</th>\n",
       "      <th>DE_radiation_direct_horizontal</th>\n",
       "      <th>DE_radiation_diffuse_horizontal</th>\n",
       "      <th>hour_sin</th>\n",
       "      <th>hour_cos</th>\n",
       "      <th>weekday_sin</th>\n",
       "      <th>weekday_cos</th>\n",
       "      <th>mnth_sin</th>\n",
       "      <th>...</th>\n",
       "      <th>month_10</th>\n",
       "      <th>month_11</th>\n",
       "      <th>month_12</th>\n",
       "      <th>weekday_0</th>\n",
       "      <th>weekday_1</th>\n",
       "      <th>weekday_2</th>\n",
       "      <th>weekday_3</th>\n",
       "      <th>weekday_4</th>\n",
       "      <th>weekday_5</th>\n",
       "      <th>weekday_6</th>\n",
       "    </tr>\n",
       "  </thead>\n",
       "  <tbody>\n",
       "    <tr>\n",
       "      <th>96</th>\n",
       "      <td>2015-01-05 00:00:00</td>\n",
       "      <td>40699.0</td>\n",
       "      <td>-0.795</td>\n",
       "      <td>0.0</td>\n",
       "      <td>0.0</td>\n",
       "      <td>0.000000</td>\n",
       "      <td>1.000000</td>\n",
       "      <td>0.0</td>\n",
       "      <td>1.0</td>\n",
       "      <td>0.0</td>\n",
       "      <td>...</td>\n",
       "      <td>0</td>\n",
       "      <td>0</td>\n",
       "      <td>0</td>\n",
       "      <td>1</td>\n",
       "      <td>0</td>\n",
       "      <td>0</td>\n",
       "      <td>0</td>\n",
       "      <td>0</td>\n",
       "      <td>0</td>\n",
       "      <td>0</td>\n",
       "    </tr>\n",
       "    <tr>\n",
       "      <th>97</th>\n",
       "      <td>2015-01-05 01:00:00</td>\n",
       "      <td>39447.0</td>\n",
       "      <td>-0.937</td>\n",
       "      <td>0.0</td>\n",
       "      <td>0.0</td>\n",
       "      <td>0.258819</td>\n",
       "      <td>0.965926</td>\n",
       "      <td>0.0</td>\n",
       "      <td>1.0</td>\n",
       "      <td>0.0</td>\n",
       "      <td>...</td>\n",
       "      <td>0</td>\n",
       "      <td>0</td>\n",
       "      <td>0</td>\n",
       "      <td>1</td>\n",
       "      <td>0</td>\n",
       "      <td>0</td>\n",
       "      <td>0</td>\n",
       "      <td>0</td>\n",
       "      <td>0</td>\n",
       "      <td>0</td>\n",
       "    </tr>\n",
       "    <tr>\n",
       "      <th>98</th>\n",
       "      <td>2015-01-05 02:00:00</td>\n",
       "      <td>39513.0</td>\n",
       "      <td>-1.117</td>\n",
       "      <td>0.0</td>\n",
       "      <td>0.0</td>\n",
       "      <td>0.500000</td>\n",
       "      <td>0.866025</td>\n",
       "      <td>0.0</td>\n",
       "      <td>1.0</td>\n",
       "      <td>0.0</td>\n",
       "      <td>...</td>\n",
       "      <td>0</td>\n",
       "      <td>0</td>\n",
       "      <td>0</td>\n",
       "      <td>1</td>\n",
       "      <td>0</td>\n",
       "      <td>0</td>\n",
       "      <td>0</td>\n",
       "      <td>0</td>\n",
       "      <td>0</td>\n",
       "      <td>0</td>\n",
       "    </tr>\n",
       "    <tr>\n",
       "      <th>99</th>\n",
       "      <td>2015-01-05 03:00:00</td>\n",
       "      <td>40440.0</td>\n",
       "      <td>-1.338</td>\n",
       "      <td>0.0</td>\n",
       "      <td>0.0</td>\n",
       "      <td>0.707107</td>\n",
       "      <td>0.707107</td>\n",
       "      <td>0.0</td>\n",
       "      <td>1.0</td>\n",
       "      <td>0.0</td>\n",
       "      <td>...</td>\n",
       "      <td>0</td>\n",
       "      <td>0</td>\n",
       "      <td>0</td>\n",
       "      <td>1</td>\n",
       "      <td>0</td>\n",
       "      <td>0</td>\n",
       "      <td>0</td>\n",
       "      <td>0</td>\n",
       "      <td>0</td>\n",
       "      <td>0</td>\n",
       "    </tr>\n",
       "    <tr>\n",
       "      <th>100</th>\n",
       "      <td>2015-01-05 04:00:00</td>\n",
       "      <td>43931.0</td>\n",
       "      <td>-1.586</td>\n",
       "      <td>0.0</td>\n",
       "      <td>0.0</td>\n",
       "      <td>0.866025</td>\n",
       "      <td>0.500000</td>\n",
       "      <td>0.0</td>\n",
       "      <td>1.0</td>\n",
       "      <td>0.0</td>\n",
       "      <td>...</td>\n",
       "      <td>0</td>\n",
       "      <td>0</td>\n",
       "      <td>0</td>\n",
       "      <td>1</td>\n",
       "      <td>0</td>\n",
       "      <td>0</td>\n",
       "      <td>0</td>\n",
       "      <td>0</td>\n",
       "      <td>0</td>\n",
       "      <td>0</td>\n",
       "    </tr>\n",
       "  </tbody>\n",
       "</table>\n",
       "<p>5 rows × 54 columns</p>\n",
       "</div>"
      ],
      "text/plain": [
       "                    Time  DE_load_actual_entsoe_transparency  DE_temperature  \\\n",
       "96   2015-01-05 00:00:00                             40699.0          -0.795   \n",
       "97   2015-01-05 01:00:00                             39447.0          -0.937   \n",
       "98   2015-01-05 02:00:00                             39513.0          -1.117   \n",
       "99   2015-01-05 03:00:00                             40440.0          -1.338   \n",
       "100  2015-01-05 04:00:00                             43931.0          -1.586   \n",
       "\n",
       "     DE_radiation_direct_horizontal  DE_radiation_diffuse_horizontal  \\\n",
       "96                              0.0                              0.0   \n",
       "97                              0.0                              0.0   \n",
       "98                              0.0                              0.0   \n",
       "99                              0.0                              0.0   \n",
       "100                             0.0                              0.0   \n",
       "\n",
       "     hour_sin  hour_cos  weekday_sin  weekday_cos  mnth_sin  ...  month_10  \\\n",
       "96   0.000000  1.000000          0.0          1.0       0.0  ...         0   \n",
       "97   0.258819  0.965926          0.0          1.0       0.0  ...         0   \n",
       "98   0.500000  0.866025          0.0          1.0       0.0  ...         0   \n",
       "99   0.707107  0.707107          0.0          1.0       0.0  ...         0   \n",
       "100  0.866025  0.500000          0.0          1.0       0.0  ...         0   \n",
       "\n",
       "     month_11  month_12  weekday_0  weekday_1  weekday_2  weekday_3  \\\n",
       "96          0         0          1          0          0          0   \n",
       "97          0         0          1          0          0          0   \n",
       "98          0         0          1          0          0          0   \n",
       "99          0         0          1          0          0          0   \n",
       "100         0         0          1          0          0          0   \n",
       "\n",
       "     weekday_4  weekday_5  weekday_6  \n",
       "96           0          0          0  \n",
       "97           0          0          0  \n",
       "98           0          0          0  \n",
       "99           0          0          0  \n",
       "100          0          0          0  \n",
       "\n",
       "[5 rows x 54 columns]"
      ]
     },
     "execution_count": 5,
     "metadata": {},
     "output_type": "execute_result"
    }
   ],
   "source": [
    "mondays = df.loc[lambda df: df['weekday_0']==1]\n",
    "mondays.head()\n",
    "#for day in mondays_roll:\n",
    "     #print(day)\n",
    "    #day.plot( x='Time', y='DE_load_actual_entsoe_transparency')\n"
   ]
  },
  {
   "cell_type": "code",
   "execution_count": 21,
   "metadata": {},
   "outputs": [
    {
     "name": "stdout",
     "output_type": "stream",
     "text": [
      "338256\n"
     ]
    },
    {
     "data": {
      "image/png": "[encoded data removed]",
      "text/plain": [
       "<Figure size 432x288 with 1 Axes>"
      ]
     },
     "metadata": {
      "needs_background": "light"
     },
     "output_type": "display_data"
    }
   ],
   "source": [
    "\n",
    "print(mondays.size)\n",
    "x = np.arange(0,24)\n",
    "for i in range(10):\n",
    "    day = mondays.iloc[i*24:i*24+24,1]\n",
    "    plt.plot(x,day, label=str(i))\n",
    "    \n",
    "plt.legend()   \n",
    "plt.show()\n",
    "\n",
    "    \n",
    "    \n",
    "    "
   ]
  },
  {
   "cell_type": "markdown",
   "metadata": {},
   "source": [
    "1,2,3,4 look similar"
   ]
  },
  {
   "cell_type": "code",
   "execution_count": 29,
   "metadata": {},
   "outputs": [
    {
     "data": {
      "image/png": "[encoded data removed]",
      "text/plain": [
       "<Figure size 432x288 with 1 Axes>"
      ]
     },
     "metadata": {
      "needs_background": "light"
     },
     "output_type": "display_data"
    }
   ],
   "source": [
    "x = np.arange(0,24)\n",
    "for i in range(1,5):\n",
    "    day = mondays.iloc[i*24:i*24+24,1]\n",
    "    date = pd.to_datetime(mondays.iloc[i*24,0])\n",
    "    plt.plot(x,day, label=date.strftime('%b %d %Y'))\n",
    "    \n",
    "plt.legend()   \n",
    "plt.show()"
   ]
  },
  {
   "cell_type": "markdown",
   "metadata": {},
   "source": [
    " - 12.01.2015 -> 264 - hh\n",
    " - 19.01.2015 -> 432 - hh\n",
    " - 26.01.2015 -> 600 - hh \n",
    " - 02.02.2015 -> 768 - hh"
   ]
  }
 ],
 "metadata": {
  "kernelspec": {
   "display_name": "reserver",
   "language": "python",
   "name": "reserver"
  },
  "language_info": {
   "codemirror_mode": {
    "name": "ipython",
    "version": 3
   },
   "file_extension": ".py",
   "mimetype": "text/x-python",
   "name": "python",
   "nbconvert_exporter": "python",
   "pygments_lexer": "ipython3",
   "version": "3.8.3"
  }
 },
 "nbformat": 4,
 "nbformat_minor": 4
}
